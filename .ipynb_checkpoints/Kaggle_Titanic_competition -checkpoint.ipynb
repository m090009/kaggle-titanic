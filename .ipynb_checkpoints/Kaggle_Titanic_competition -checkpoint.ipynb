{
 "cells": [
  {
   "cell_type": "markdown",
   "metadata": {},
   "source": [
    "# Kaggle Titanic competition in Tensorflow"
   ]
  },
  {
   "cell_type": "markdown",
   "metadata": {},
   "source": [
    "* Get data \n",
    "* Preprocess data\n",
    "* Split data\n",
    "* Build model\n",
    "* Train model \n",
    "* Test loss and accuracy (Training and validation set)\n",
    "* Plot results \n",
    "* Apply model on test set (Test set)\n",
    "* Apply model on the final test set"
   ]
  },
  {
   "cell_type": "markdown",
   "metadata": {},
   "source": [
    "## Get the data & Exploration\n",
    "\n",
    "Fist well get the raw data from the train.csv file"
   ]
  },
  {
   "cell_type": "code",
   "execution_count": 1,
   "metadata": {
    "scrolled": true
   },
   "outputs": [],
   "source": [
    "data_dir = \"./data\"\n",
    "%matplotlib inline\n",
    "%config InlineBackend.figure_format = 'retina'\n",
    "\n",
    "import numpy as np\n",
    "import pandas as pd\n",
    "import matplotlib.pyplot as plt\n",
    "\n",
    "\n",
    "raw_train_data = pd.read_csv(\"data/train.csv\")\n",
    "raw_test_data = pd.read_csv(\"data/test.csv\")\n",
    "raw_label_data = pd.read_csv(\"data/gender_submission.csv\")"
   ]
  },
  {
   "cell_type": "markdown",
   "metadata": {},
   "source": [
    "We're going to choose Survived, Pclass, Sex, Age, and Fare for now and well drop the rest"
   ]
  },
  {
   "cell_type": "code",
   "execution_count": 2,
   "metadata": {},
   "outputs": [
    {
     "data": {
      "text/plain": [
       "891"
      ]
     },
     "execution_count": 2,
     "metadata": {},
     "output_type": "execute_result"
    }
   ],
   "source": [
    "raw_train_data.head()\n",
    "len(raw_train_data)"
   ]
  },
  {
   "cell_type": "code",
   "execution_count": 3,
   "metadata": {},
   "outputs": [
    {
     "data": {
      "text/plain": [
       "418"
      ]
     },
     "execution_count": 3,
     "metadata": {},
     "output_type": "execute_result"
    }
   ],
   "source": [
    "raw_test_data.head()\n",
    "len(raw_test_data)"
   ]
  },
  {
   "cell_type": "code",
   "execution_count": 4,
   "metadata": {},
   "outputs": [
    {
     "data": {
      "text/plain": [
       "418"
      ]
     },
     "execution_count": 4,
     "metadata": {},
     "output_type": "execute_result"
    }
   ],
   "source": [
    "raw_label_data.head()\n",
    "len(raw_label_data)"
   ]
  },
  {
   "cell_type": "code",
   "execution_count": 5,
   "metadata": {},
   "outputs": [],
   "source": [
    "def drop_fields(data):\n",
    "    fields_to_drop = [\"PassengerId\", \"Name\", \"SibSp\", \"Parch\", \"Ticket\", \"Cabin\", \"Embarked\"]\n",
    "    data = data.drop(fields_to_drop, axis = 1)\n",
    "    return data"
   ]
  },
  {
   "cell_type": "code",
   "execution_count": 6,
   "metadata": {},
   "outputs": [
    {
     "name": "stdout",
     "output_type": "stream",
     "text": [
      "     Survived  Pclass     Sex   Age      Fare\n",
      "0           0       3    male  22.0    7.2500\n",
      "1           1       1  female  38.0   71.2833\n",
      "2           1       3  female  26.0    7.9250\n",
      "3           1       1  female  35.0   53.1000\n",
      "4           0       3    male  35.0    8.0500\n",
      "5           0       3    male   NaN    8.4583\n",
      "6           0       1    male  54.0   51.8625\n",
      "7           0       3    male   2.0   21.0750\n",
      "8           1       3  female  27.0   11.1333\n",
      "9           1       2  female  14.0   30.0708\n",
      "10          1       3  female   4.0   16.7000\n",
      "11          1       1  female  58.0   26.5500\n",
      "12          0       3    male  20.0    8.0500\n",
      "13          0       3    male  39.0   31.2750\n",
      "14          0       3  female  14.0    7.8542\n",
      "15          1       2  female  55.0   16.0000\n",
      "16          0       3    male   2.0   29.1250\n",
      "17          1       2    male   NaN   13.0000\n",
      "18          0       3  female  31.0   18.0000\n",
      "19          1       3  female   NaN    7.2250\n",
      "20          0       2    male  35.0   26.0000\n",
      "21          1       2    male  34.0   13.0000\n",
      "22          1       3  female  15.0    8.0292\n",
      "23          1       1    male  28.0   35.5000\n",
      "24          0       3  female   8.0   21.0750\n",
      "25          1       3  female  38.0   31.3875\n",
      "26          0       3    male   NaN    7.2250\n",
      "27          0       1    male  19.0  263.0000\n",
      "28          1       3  female   NaN    7.8792\n",
      "29          0       3    male   NaN    7.8958\n",
      "..        ...     ...     ...   ...       ...\n",
      "861         0       2    male  21.0   11.5000\n",
      "862         1       1  female  48.0   25.9292\n",
      "863         0       3  female   NaN   69.5500\n",
      "864         0       2    male  24.0   13.0000\n",
      "865         1       2  female  42.0   13.0000\n",
      "866         1       2  female  27.0   13.8583\n",
      "867         0       1    male  31.0   50.4958\n",
      "868         0       3    male   NaN    9.5000\n",
      "869         1       3    male   4.0   11.1333\n",
      "870         0       3    male  26.0    7.8958\n",
      "871         1       1  female  47.0   52.5542\n",
      "872         0       1    male  33.0    5.0000\n",
      "873         0       3    male  47.0    9.0000\n",
      "874         1       2  female  28.0   24.0000\n",
      "875         1       3  female  15.0    7.2250\n",
      "876         0       3    male  20.0    9.8458\n",
      "877         0       3    male  19.0    7.8958\n",
      "878         0       3    male   NaN    7.8958\n",
      "879         1       1  female  56.0   83.1583\n",
      "880         1       2  female  25.0   26.0000\n",
      "881         0       3    male  33.0    7.8958\n",
      "882         0       3  female  22.0   10.5167\n",
      "883         0       2    male  28.0   10.5000\n",
      "884         0       3    male  25.0    7.0500\n",
      "885         0       3  female  39.0   29.1250\n",
      "886         0       2    male  27.0   13.0000\n",
      "887         1       1  female  19.0   30.0000\n",
      "888         0       3  female   NaN   23.4500\n",
      "889         1       1    male  26.0   30.0000\n",
      "890         0       3    male  32.0    7.7500\n",
      "\n",
      "[891 rows x 5 columns]\n"
     ]
    }
   ],
   "source": [
    "raw_train_data = drop_fields(raw_train_data)\n",
    "raw_train_data.head()\n",
    "print(raw_train_data)"
   ]
  },
  {
   "cell_type": "code",
   "execution_count": 7,
   "metadata": {},
   "outputs": [
    {
     "name": "stdout",
     "output_type": "stream",
     "text": [
      "     Pclass     Sex   Age      Fare\n",
      "0         3    male  34.5    7.8292\n",
      "1         3  female  47.0    7.0000\n",
      "2         2    male  62.0    9.6875\n",
      "3         3    male  27.0    8.6625\n",
      "4         3  female  22.0   12.2875\n",
      "5         3    male  14.0    9.2250\n",
      "6         3  female  30.0    7.6292\n",
      "7         2    male  26.0   29.0000\n",
      "8         3  female  18.0    7.2292\n",
      "9         3    male  21.0   24.1500\n",
      "10        3    male   NaN    7.8958\n",
      "11        1    male  46.0   26.0000\n",
      "12        1  female  23.0   82.2667\n",
      "13        2    male  63.0   26.0000\n",
      "14        1  female  47.0   61.1750\n",
      "15        2  female  24.0   27.7208\n",
      "16        2    male  35.0   12.3500\n",
      "17        3    male  21.0    7.2250\n",
      "18        3  female  27.0    7.9250\n",
      "19        3  female  45.0    7.2250\n",
      "20        1    male  55.0   59.4000\n",
      "21        3    male   9.0    3.1708\n",
      "22        1  female   NaN   31.6833\n",
      "23        1    male  21.0   61.3792\n",
      "24        1  female  48.0  262.3750\n",
      "25        3    male  50.0   14.5000\n",
      "26        1  female  22.0   61.9792\n",
      "27        3    male  22.5    7.2250\n",
      "28        1    male  41.0   30.5000\n",
      "29        3    male   NaN   21.6792\n",
      "..      ...     ...   ...       ...\n",
      "388       3    male  21.0    7.7500\n",
      "389       3    male   6.0   21.0750\n",
      "390       1    male  23.0   93.5000\n",
      "391       1  female  51.0   39.4000\n",
      "392       3    male  13.0   20.2500\n",
      "393       2    male  47.0   10.5000\n",
      "394       3    male  29.0   22.0250\n",
      "395       1  female  18.0   60.0000\n",
      "396       3    male  24.0    7.2500\n",
      "397       1  female  48.0   79.2000\n",
      "398       3    male  22.0    7.7750\n",
      "399       3    male  31.0    7.7333\n",
      "400       1  female  30.0  164.8667\n",
      "401       2    male  38.0   21.0000\n",
      "402       1  female  22.0   59.4000\n",
      "403       1    male  17.0   47.1000\n",
      "404       1    male  43.0   27.7208\n",
      "405       2    male  20.0   13.8625\n",
      "406       2    male  23.0   10.5000\n",
      "407       1    male  50.0  211.5000\n",
      "408       3  female   NaN    7.7208\n",
      "409       3  female   3.0   13.7750\n",
      "410       3  female   NaN    7.7500\n",
      "411       1  female  37.0   90.0000\n",
      "412       3  female  28.0    7.7750\n",
      "413       3    male   NaN    8.0500\n",
      "414       1  female  39.0  108.9000\n",
      "415       3    male  38.5    7.2500\n",
      "416       3    male   NaN    8.0500\n",
      "417       3    male   NaN   22.3583\n",
      "\n",
      "[418 rows x 4 columns]\n"
     ]
    }
   ],
   "source": [
    "y_test = raw_label_data['Survived']\n",
    "raw_test_data = drop_fields(raw_test_data)\n",
    "raw_test_data.head()\n",
    "print(raw_test_data)"
   ]
  },
  {
   "cell_type": "markdown",
   "metadata": {},
   "source": [
    "## Preprocess data\n",
    "preprocess the data by standardizing continuous features with a mean of zero and a standard deviation of one."
   ]
  },
  {
   "cell_type": "code",
   "execution_count": 8,
   "metadata": {
    "scrolled": true
   },
   "outputs": [
    {
     "name": "stdout",
     "output_type": "stream",
     "text": [
      "    Survived    Pclass      Fare  Sex_female  Sex_male\n",
      "0          0  0.826913 -0.502163           0         1\n",
      "1          1 -1.565228  0.786404           1         0\n",
      "2          1  0.826913 -0.488580           1         0\n",
      "3          1 -1.565228  0.420494           1         0\n",
      "4          0  0.826913 -0.486064           0         1\n",
      "5          0  0.826913 -0.477848           0         1\n",
      "6          0 -1.565228  0.395591           0         1\n",
      "7          0  0.826913 -0.223957           0         1\n",
      "8          1  0.826913 -0.424018           1         0\n",
      "9          1 -0.369158 -0.042931           1         0\n",
      "10         1  0.826913 -0.311997           1         0\n",
      "      Pclass      Fare  Sex_female  Sex_male\n",
      "0   0.872436 -0.497213           0         1\n",
      "1   0.872436 -0.512045           1         0\n",
      "2  -0.315441 -0.463974           0         1\n",
      "3   0.872436 -0.482308           0         1\n",
      "4   0.872436 -0.417469           1         0\n",
      "5   0.872436 -0.472247           0         1\n",
      "6   0.872436 -0.500791           1         0\n",
      "7  -0.315441 -0.118538           0         1\n",
      "8   0.872436 -0.507945           1         0\n",
      "9   0.872436 -0.205289           0         1\n",
      "10  0.872436 -0.496022           0         1\n"
     ]
    }
   ],
   "source": [
    "from sklearn import preprocessing\n",
    "\n",
    "def preprocess_data(raw_data):\n",
    "    # Make new columns for the categorical field and then add them to the main data\n",
    "    dummy_field = 'Sex'\n",
    "    dummies = pd.get_dummies(raw_data[dummy_field], prefix= dummy_field, drop_first = False)\n",
    "    preprocessed_data = pd.concat([raw_data, dummies], axis = 1)\n",
    "    # Drop the sex column \n",
    "    preprocessed_data = preprocessed_data.drop(['Sex'], axis = 1)\n",
    "    preprocessed_data = preprocessed_data.drop(['Age'], axis = 1)\n",
    "#     pd.DataFrame(preprocessed_data).fillna(preprocessed_data.mean(), inplace= True)\n",
    "#     print(preprocessed_data.head())\n",
    "    \n",
    "    # Scale feeatures to hace them closer in mean and standard deviation\n",
    "    features_to_scale = ['Pclass', 'Fare']\n",
    "    scaled_features = {}\n",
    "    for feature in features_to_scale:\n",
    "        mean, std = preprocessed_data[feature].mean(), preprocessed_data[feature].std()\n",
    "        scaled_features = [mean, std]\n",
    "        preprocessed_data.loc[:, feature] = (preprocessed_data[feature] - mean) / std\n",
    "\n",
    "    # scaled_raw_data = preprocessing.scale(preprocessed_data, copy= False)\n",
    "    print(preprocessed_data[:11])\n",
    "    return preprocessed_data\n",
    "\n",
    "preprocessed_train = preprocess_data(raw_train_data)\n",
    "preprocessed_test = preprocess_data(raw_test_data)"
   ]
  },
  {
   "cell_type": "markdown",
   "metadata": {},
   "source": [
    "## Split data"
   ]
  },
  {
   "cell_type": "markdown",
   "metadata": {},
   "source": [
    "Split the data into **random** 80% training and 20% validation and testing sets."
   ]
  },
  {
   "cell_type": "code",
   "execution_count": 9,
   "metadata": {},
   "outputs": [],
   "source": [
    "y = preprocessed_train.pop('Survived')\n",
    "X = preprocessed_train"
   ]
  },
  {
   "cell_type": "code",
   "execution_count": 10,
   "metadata": {},
   "outputs": [],
   "source": [
    "from sklearn.model_selection import train_test_split\n",
    "# Divide the data 80% 20% random samples\n",
    "X_train = X\n",
    "y_train = y\n",
    "X_test, X_val, y_test, y_val = train_test_split(preprocessed_test, y_test, test_size = 0.40)\n",
    "# Now lets create the validation set from the X_train and y_train\n",
    "# X_train, X_val, y_train, y_val = train_test_split(X_train, y_train, test_size = 0.10)"
   ]
  },
  {
   "cell_type": "code",
   "execution_count": 11,
   "metadata": {},
   "outputs": [
    {
     "name": "stdout",
     "output_type": "stream",
     "text": [
      "Number of training data is :891\n",
      "Number of validation data is :168\n",
      "Number of testing data is :250\n"
     ]
    }
   ],
   "source": [
    "# Prining the training and validation numbers\n",
    "print('Number of training data is :{}'.format(len(X_train)))\n",
    "print('Number of validation data is :{}'.format(len(X_val)))\n",
    "print('Number of testing data is :{}'.format(len(X_test)))"
   ]
  },
  {
   "cell_type": "markdown",
   "metadata": {},
   "source": [
    "## Simple Logistic Regression\n",
    "We'll be using simple regression and RFE"
   ]
  },
  {
   "cell_type": "code",
   "execution_count": null,
   "metadata": {},
   "outputs": [],
   "source": []
  },
  {
   "cell_type": "markdown",
   "metadata": {},
   "source": [
    "## Model Architecture \n",
    "\n",
    "So here we have a simple classification problem that "
   ]
  },
  {
   "cell_type": "code",
   "execution_count": 12,
   "metadata": {},
   "outputs": [
    {
     "name": "stdout",
     "output_type": "stream",
     "text": [
      "Training data shape is (891, 4)\n"
     ]
    }
   ],
   "source": [
    "print('Training data shape is {}'.format(X_train.shape))"
   ]
  },
  {
   "cell_type": "code",
   "execution_count": 13,
   "metadata": {
    "scrolled": true
   },
   "outputs": [
    {
     "name": "stdout",
     "output_type": "stream",
     "text": [
      "     Pclass      Fare  Sex_female  Sex_male\n",
      "0  0.826913 -0.502163           0         1\n",
      "1 -1.565228  0.786404           1         0\n",
      "2  0.826913 -0.488580           1         0\n",
      "3 -1.565228  0.420494           1         0\n",
      "4  0.826913 -0.486064           0         1\n"
     ]
    }
   ],
   "source": [
    "print(X_train[:5])"
   ]
  },
  {
   "cell_type": "code",
   "execution_count": 14,
   "metadata": {
    "scrolled": true
   },
   "outputs": [
    {
     "name": "stdout",
     "output_type": "stream",
     "text": [
      "       Pclass      Fare  Sex_female  Sex_male\n",
      "370 -0.315441 -0.431555           0         1\n",
      "300  0.872436 -0.498183           0         1\n",
      "156 -1.503319  3.329638           1         0\n",
      "82  -1.503319 -0.172198           0         1\n",
      "273  0.872436 -0.360008           1         0\n"
     ]
    }
   ],
   "source": [
    "print(X_val[:5])"
   ]
  },
  {
   "cell_type": "code",
   "execution_count": 15,
   "metadata": {
    "scrolled": true
   },
   "outputs": [
    {
     "name": "stdout",
     "output_type": "stream",
     "text": [
      "       Pclass      Fare  Sex_female  Sex_male\n",
      "96  -1.503319  0.773112           1         0\n",
      "356 -1.503319  0.283540           1         0\n",
      "354  0.872436 -0.269233           1         0\n",
      "320  0.872436 -0.498183           0         1\n",
      "76   0.872436 -0.493264           0         1\n"
     ]
    }
   ],
   "source": [
    "print(X_test[:5])"
   ]
  },
  {
   "cell_type": "code",
   "execution_count": 16,
   "metadata": {},
   "outputs": [
    {
     "name": "stderr",
     "output_type": "stream",
     "text": [
      "C:\\Users\\modmo\\Anaconda2\\envs\\carnd-term1\\lib\\site-packages\\h5py\\__init__.py:36: FutureWarning: Conversion of the second argument of issubdtype from `float` to `np.floating` is deprecated. In future, it will be treated as `np.float64 == np.dtype(float).type`.\n",
      "  from ._conv import register_converters as _register_converters\n",
      "Using TensorFlow backend.\n"
     ]
    }
   ],
   "source": [
    "########## Keras imports ###########\n",
    "from keras.layers import Dense, Lambda, Dropout, Input, BatchNormalization\n",
    "from keras.models import Sequential, load_model, Model\n",
    "import keras\n",
    "\n",
    "dropout = 0.3\n",
    "\n",
    "# Keras model for regression \n",
    "model = Sequential()\n",
    "# fc_1\n",
    "model.add(Dense(20, input_shape=(4,), activation='relu'))\n",
    "# fc_2\n",
    "model.add(Dense(10, activation='relu'))\n",
    "\n",
    "\n",
    "# logits\n",
    "model.add(Dense(2, activation='softmax'))"
   ]
  },
  {
   "cell_type": "markdown",
   "metadata": {},
   "source": [
    "## Training the Model"
   ]
  },
  {
   "cell_type": "code",
   "execution_count": 20,
   "metadata": {},
   "outputs": [],
   "source": [
    "y_train = keras.utils.to_categorical(y_train, 2)\n",
    "y_val = keras.utils.to_categorical(y_val, 2)\n",
    "y_test = keras.utils.to_categorical(y_test, 2)"
   ]
  },
  {
   "cell_type": "code",
   "execution_count": 18,
   "metadata": {
    "scrolled": true
   },
   "outputs": [
    {
     "name": "stdout",
     "output_type": "stream",
     "text": [
      "Train on 891 samples, validate on 168 samples\n",
      "Epoch 1/100\n",
      " - 2s - loss: 0.6710 - acc: 0.5679 - val_loss: 0.6367 - val_acc: 0.8512\n",
      "Epoch 2/100\n",
      " - 0s - loss: 0.6092 - acc: 0.7632 - val_loss: 0.5408 - val_acc: 0.9167\n",
      "Epoch 3/100\n",
      " - 0s - loss: 0.5434 - acc: 0.7677 - val_loss: 0.4304 - val_acc: 0.7976\n",
      "Epoch 4/100\n",
      " - 0s - loss: 0.4951 - acc: 0.7553 - val_loss: 0.3660 - val_acc: 0.7976\n",
      "Epoch 5/100\n",
      " - 0s - loss: 0.4737 - acc: 0.7632 - val_loss: 0.3132 - val_acc: 0.9345\n",
      "Epoch 6/100\n",
      " - 0s - loss: 0.4626 - acc: 0.7789 - val_loss: 0.2892 - val_acc: 0.9524\n",
      "Epoch 7/100\n",
      " - 0s - loss: 0.4566 - acc: 0.7789 - val_loss: 0.2785 - val_acc: 0.9524\n",
      "Epoch 8/100\n",
      " - 0s - loss: 0.4524 - acc: 0.7823 - val_loss: 0.2741 - val_acc: 0.9643\n",
      "Epoch 9/100\n",
      " - 0s - loss: 0.4499 - acc: 0.7879 - val_loss: 0.2673 - val_acc: 0.9940\n",
      "Epoch 10/100\n",
      " - 0s - loss: 0.4480 - acc: 0.7890 - val_loss: 0.2646 - val_acc: 0.9940\n",
      "Epoch 11/100\n",
      " - 0s - loss: 0.4464 - acc: 0.7935 - val_loss: 0.2668 - val_acc: 0.9881\n",
      "Epoch 12/100\n",
      " - 0s - loss: 0.4454 - acc: 0.8081 - val_loss: 0.2622 - val_acc: 0.9405\n",
      "Epoch 13/100\n",
      " - 0s - loss: 0.4446 - acc: 0.8092 - val_loss: 0.2606 - val_acc: 0.9881\n",
      "Epoch 14/100\n",
      " - 0s - loss: 0.4439 - acc: 0.8036 - val_loss: 0.2520 - val_acc: 0.9940\n",
      "Epoch 15/100\n",
      " - 0s - loss: 0.4438 - acc: 0.8002 - val_loss: 0.2608 - val_acc: 0.9405\n",
      "Epoch 16/100\n",
      " - 0s - loss: 0.4424 - acc: 0.8036 - val_loss: 0.2558 - val_acc: 0.9881\n",
      "Epoch 17/100\n",
      " - 0s - loss: 0.4422 - acc: 0.8036 - val_loss: 0.2582 - val_acc: 0.9881\n",
      "Epoch 18/100\n",
      " - 0s - loss: 0.4421 - acc: 0.8058 - val_loss: 0.2602 - val_acc: 0.9881\n",
      "Epoch 19/100\n",
      " - 0s - loss: 0.4421 - acc: 0.8047 - val_loss: 0.2573 - val_acc: 0.9524\n",
      "Epoch 20/100\n",
      " - 0s - loss: 0.4415 - acc: 0.8036 - val_loss: 0.2555 - val_acc: 0.9821\n",
      "Epoch 21/100\n",
      " - 0s - loss: 0.4408 - acc: 0.8092 - val_loss: 0.2568 - val_acc: 0.9881\n",
      "Epoch 22/100\n",
      " - 0s - loss: 0.4403 - acc: 0.8013 - val_loss: 0.2521 - val_acc: 0.9524\n",
      "Epoch 23/100\n",
      " - 0s - loss: 0.4402 - acc: 0.8070 - val_loss: 0.2581 - val_acc: 0.9524\n",
      "Epoch 24/100\n",
      " - 0s - loss: 0.4396 - acc: 0.8047 - val_loss: 0.2494 - val_acc: 0.9821\n",
      "Epoch 25/100\n",
      " - 0s - loss: 0.4394 - acc: 0.8070 - val_loss: 0.2534 - val_acc: 0.9821\n",
      "Epoch 26/100\n",
      " - 0s - loss: 0.4390 - acc: 0.8070 - val_loss: 0.2533 - val_acc: 0.9524\n",
      "Epoch 27/100\n",
      " - 0s - loss: 0.4393 - acc: 0.8047 - val_loss: 0.2569 - val_acc: 0.9702\n",
      "Epoch 28/100\n",
      " - 0s - loss: 0.4385 - acc: 0.8058 - val_loss: 0.2513 - val_acc: 0.9524\n",
      "Epoch 29/100\n",
      " - 0s - loss: 0.4391 - acc: 0.8025 - val_loss: 0.2496 - val_acc: 0.9702\n",
      "Epoch 30/100\n",
      " - 0s - loss: 0.4383 - acc: 0.8025 - val_loss: 0.2512 - val_acc: 0.9524\n",
      "Epoch 31/100\n",
      " - 0s - loss: 0.4376 - acc: 0.8058 - val_loss: 0.2528 - val_acc: 0.9762\n",
      "Epoch 32/100\n",
      " - 0s - loss: 0.4381 - acc: 0.8013 - val_loss: 0.2583 - val_acc: 0.9524\n",
      "Epoch 33/100\n",
      " - 0s - loss: 0.4373 - acc: 0.8081 - val_loss: 0.2480 - val_acc: 0.9524\n",
      "Epoch 34/100\n",
      " - 0s - loss: 0.4365 - acc: 0.8070 - val_loss: 0.2513 - val_acc: 0.9762\n",
      "Epoch 35/100\n",
      " - 0s - loss: 0.4364 - acc: 0.8081 - val_loss: 0.2531 - val_acc: 0.9524\n",
      "Epoch 36/100\n",
      " - 0s - loss: 0.4363 - acc: 0.8058 - val_loss: 0.2508 - val_acc: 0.9464\n",
      "Epoch 37/100\n",
      " - 0s - loss: 0.4363 - acc: 0.8070 - val_loss: 0.2481 - val_acc: 0.9524\n",
      "Epoch 38/100\n",
      " - 0s - loss: 0.4360 - acc: 0.7980 - val_loss: 0.2495 - val_acc: 0.9524\n",
      "Epoch 39/100\n",
      " - 0s - loss: 0.4365 - acc: 0.8058 - val_loss: 0.2520 - val_acc: 0.9702\n",
      "Epoch 40/100\n",
      " - 0s - loss: 0.4361 - acc: 0.8081 - val_loss: 0.2423 - val_acc: 0.9881\n",
      "Epoch 41/100\n",
      " - 0s - loss: 0.4351 - acc: 0.8070 - val_loss: 0.2496 - val_acc: 0.9524\n",
      "Epoch 42/100\n",
      " - 0s - loss: 0.4352 - acc: 0.8047 - val_loss: 0.2541 - val_acc: 0.9524\n",
      "Epoch 43/100\n",
      " - 0s - loss: 0.4352 - acc: 0.8036 - val_loss: 0.2508 - val_acc: 0.9405\n",
      "Epoch 44/100\n",
      " - 0s - loss: 0.4352 - acc: 0.8002 - val_loss: 0.2497 - val_acc: 0.9464\n",
      "Epoch 45/100\n",
      " - 0s - loss: 0.4354 - acc: 0.8013 - val_loss: 0.2463 - val_acc: 0.9821\n",
      "Epoch 46/100\n",
      " - 0s - loss: 0.4343 - acc: 0.8058 - val_loss: 0.2529 - val_acc: 0.9702\n",
      "Epoch 47/100\n",
      " - 0s - loss: 0.4341 - acc: 0.8070 - val_loss: 0.2513 - val_acc: 0.9464\n",
      "Epoch 48/100\n",
      " - 0s - loss: 0.4349 - acc: 0.8013 - val_loss: 0.2412 - val_acc: 0.9881\n",
      "Epoch 49/100\n",
      " - 0s - loss: 0.4339 - acc: 0.8002 - val_loss: 0.2476 - val_acc: 0.9881\n",
      "Epoch 50/100\n",
      " - 0s - loss: 0.4335 - acc: 0.8070 - val_loss: 0.2480 - val_acc: 0.9821\n",
      "Epoch 51/100\n",
      " - 0s - loss: 0.4342 - acc: 0.8036 - val_loss: 0.2552 - val_acc: 0.9405\n",
      "Epoch 52/100\n",
      " - 0s - loss: 0.4333 - acc: 0.8058 - val_loss: 0.2390 - val_acc: 0.9881\n",
      "Epoch 53/100\n",
      " - 0s - loss: 0.4328 - acc: 0.8081 - val_loss: 0.2494 - val_acc: 0.9405\n",
      "Epoch 54/100\n",
      " - 0s - loss: 0.4324 - acc: 0.7991 - val_loss: 0.2520 - val_acc: 0.9524\n",
      "Epoch 55/100\n",
      " - 0s - loss: 0.4324 - acc: 0.8058 - val_loss: 0.2507 - val_acc: 0.9702\n",
      "Epoch 56/100\n",
      " - 0s - loss: 0.4331 - acc: 0.8002 - val_loss: 0.2526 - val_acc: 0.9524\n",
      "Epoch 57/100\n",
      " - 0s - loss: 0.4330 - acc: 0.8070 - val_loss: 0.2401 - val_acc: 0.9702\n",
      "Epoch 58/100\n",
      " - 0s - loss: 0.4325 - acc: 0.8047 - val_loss: 0.2565 - val_acc: 0.9464\n",
      "Epoch 59/100\n",
      " - 0s - loss: 0.4321 - acc: 0.8047 - val_loss: 0.2443 - val_acc: 0.9881\n",
      "Epoch 60/100\n",
      " - 0s - loss: 0.4318 - acc: 0.8036 - val_loss: 0.2406 - val_acc: 0.9524\n",
      "Epoch 61/100\n",
      " - 0s - loss: 0.4323 - acc: 0.8036 - val_loss: 0.2465 - val_acc: 0.9464\n",
      "Epoch 62/100\n",
      " - 0s - loss: 0.4327 - acc: 0.8070 - val_loss: 0.2360 - val_acc: 0.9881\n",
      "Epoch 63/100\n",
      " - 0s - loss: 0.4310 - acc: 0.8013 - val_loss: 0.2553 - val_acc: 0.9464\n",
      "Epoch 64/100\n",
      " - 0s - loss: 0.4313 - acc: 0.8058 - val_loss: 0.2478 - val_acc: 0.9524\n",
      "Epoch 65/100\n",
      " - 0s - loss: 0.4303 - acc: 0.8036 - val_loss: 0.2468 - val_acc: 0.9524\n",
      "Epoch 66/100\n",
      " - 0s - loss: 0.4304 - acc: 0.8070 - val_loss: 0.2503 - val_acc: 0.9405\n",
      "Epoch 67/100\n",
      " - 0s - loss: 0.4301 - acc: 0.8013 - val_loss: 0.2390 - val_acc: 0.9821\n",
      "Epoch 68/100\n",
      " - 0s - loss: 0.4299 - acc: 0.8070 - val_loss: 0.2430 - val_acc: 0.9524\n",
      "Epoch 69/100\n",
      " - 0s - loss: 0.4298 - acc: 0.8013 - val_loss: 0.2477 - val_acc: 0.9464\n",
      "Epoch 70/100\n",
      " - 0s - loss: 0.4295 - acc: 0.8081 - val_loss: 0.2437 - val_acc: 0.9702\n",
      "Epoch 71/100\n",
      " - 0s - loss: 0.4299 - acc: 0.8013 - val_loss: 0.2485 - val_acc: 0.9405\n",
      "Epoch 72/100\n",
      " - 0s - loss: 0.4292 - acc: 0.8058 - val_loss: 0.2457 - val_acc: 0.9821\n",
      "Epoch 73/100\n",
      " - 0s - loss: 0.4307 - acc: 0.8070 - val_loss: 0.2462 - val_acc: 0.9821\n",
      "Epoch 74/100\n",
      " - 0s - loss: 0.4294 - acc: 0.8092 - val_loss: 0.2399 - val_acc: 0.9405\n",
      "Epoch 75/100\n",
      " - 0s - loss: 0.4285 - acc: 0.8025 - val_loss: 0.2441 - val_acc: 0.9821\n",
      "Epoch 76/100\n",
      " - 0s - loss: 0.4284 - acc: 0.8047 - val_loss: 0.2425 - val_acc: 0.9821\n",
      "Epoch 77/100\n",
      " - 0s - loss: 0.4293 - acc: 0.8002 - val_loss: 0.2487 - val_acc: 0.9881\n",
      "Epoch 78/100\n",
      " - 0s - loss: 0.4277 - acc: 0.8047 - val_loss: 0.2379 - val_acc: 0.9524\n",
      "Epoch 79/100\n",
      " - 0s - loss: 0.4286 - acc: 0.8047 - val_loss: 0.2397 - val_acc: 0.9821\n",
      "Epoch 80/100\n",
      " - 0s - loss: 0.4293 - acc: 0.8081 - val_loss: 0.2514 - val_acc: 0.9821\n",
      "Epoch 81/100\n",
      " - 0s - loss: 0.4286 - acc: 0.8013 - val_loss: 0.2378 - val_acc: 0.9464\n",
      "Epoch 82/100\n",
      " - 0s - loss: 0.4284 - acc: 0.7980 - val_loss: 0.2418 - val_acc: 0.9524\n",
      "Epoch 83/100\n",
      " - 0s - loss: 0.4277 - acc: 0.8058 - val_loss: 0.2453 - val_acc: 0.9762\n",
      "Epoch 84/100\n",
      " - 0s - loss: 0.4282 - acc: 0.8025 - val_loss: 0.2394 - val_acc: 0.9524\n",
      "Epoch 85/100\n",
      " - 0s - loss: 0.4281 - acc: 0.8081 - val_loss: 0.2454 - val_acc: 0.9524\n",
      "Epoch 86/100\n",
      " - 0s - loss: 0.4285 - acc: 0.8047 - val_loss: 0.2445 - val_acc: 0.9762\n",
      "Epoch 87/100\n",
      " - 0s - loss: 0.4287 - acc: 0.8058 - val_loss: 0.2482 - val_acc: 0.9524\n",
      "Epoch 88/100\n",
      " - 0s - loss: 0.4279 - acc: 0.8036 - val_loss: 0.2405 - val_acc: 0.9821\n",
      "Epoch 89/100\n",
      " - 0s - loss: 0.4271 - acc: 0.8092 - val_loss: 0.2441 - val_acc: 0.9524\n",
      "Epoch 90/100\n",
      " - 0s - loss: 0.4284 - acc: 0.8013 - val_loss: 0.2468 - val_acc: 0.9524\n",
      "Epoch 91/100\n",
      " - 0s - loss: 0.4292 - acc: 0.8058 - val_loss: 0.2330 - val_acc: 0.9821\n",
      "Epoch 92/100\n",
      " - 0s - loss: 0.4268 - acc: 0.8070 - val_loss: 0.2474 - val_acc: 0.9464\n",
      "Epoch 93/100\n",
      " - 0s - loss: 0.4267 - acc: 0.8036 - val_loss: 0.2397 - val_acc: 0.9821\n",
      "Epoch 94/100\n",
      " - 0s - loss: 0.4268 - acc: 0.8013 - val_loss: 0.2541 - val_acc: 0.9464\n",
      "Epoch 95/100\n",
      " - 0s - loss: 0.4266 - acc: 0.8047 - val_loss: 0.2450 - val_acc: 0.9524\n",
      "Epoch 96/100\n",
      " - 0s - loss: 0.4271 - acc: 0.8070 - val_loss: 0.2412 - val_acc: 0.9821\n"
     ]
    },
    {
     "name": "stdout",
     "output_type": "stream",
     "text": [
      "Epoch 97/100\n",
      " - 0s - loss: 0.4257 - acc: 0.8025 - val_loss: 0.2381 - val_acc: 0.9524\n",
      "Epoch 98/100\n",
      " - 0s - loss: 0.4259 - acc: 0.7991 - val_loss: 0.2473 - val_acc: 0.9524\n",
      "Epoch 99/100\n",
      " - 0s - loss: 0.4270 - acc: 0.8058 - val_loss: 0.2466 - val_acc: 0.9702\n",
      "Epoch 100/100\n",
      " - 0s - loss: 0.4268 - acc: 0.7991 - val_loss: 0.2449 - val_acc: 0.9524\n"
     ]
    }
   ],
   "source": [
    "# Configutring model training \n",
    "model.compile(loss='categorical_crossentropy',\n",
    "              optimizer='adam',\n",
    "              metrics=['accuracy'])\n",
    "# Training the model \n",
    "model_history = model.fit(X_train,\n",
    "                          y_train,\n",
    "                          validation_data=(X_val, y_val),\n",
    "                          shuffle=True,\n",
    "                          epochs=100,\n",
    "                          verbose=2)"
   ]
  },
  {
   "cell_type": "code",
   "execution_count": 19,
   "metadata": {
    "scrolled": true
   },
   "outputs": [
    {
     "data": {
      "image/png": "[encoded data removed]",
      "text/plain": [
       "<matplotlib.figure.Figure at 0x1fa9f0d6198>"
      ]
     },
     "metadata": {
      "image/png": {
       "height": 277,
       "width": 387
      }
     },
     "output_type": "display_data"
    }
   ],
   "source": [
    "import matplotlib.pyplot as plt\n",
    "# Visualizations will be shown in the notebook.\n",
    "%matplotlib inline\n",
    "# summarize history for accuracy\n",
    "# plt.plot(model_history.history['acc'])+\n",
    "# plt.plot(model_history.history['val_acc'])\n",
    "# plt.title('model accuracy')\n",
    "# plt.ylabel('accuracy')\n",
    "# plt.xlabel('epoch')\n",
    "# plt.legend(['train', 'valid'], loc='upper left')\n",
    "# plt.show()\n",
    "# summarize history for loss\n",
    "plt.plot(model_history.history['loss'])\n",
    "plt.plot(model_history.history['val_loss'])\n",
    "plt.title('model loss')\n",
    "plt.ylabel('loss')\n",
    "plt.xlabel('epoch')\n",
    "plt.legend(['train', 'valid'], loc='upper left')\n",
    "plt.show()"
   ]
  },
  {
   "cell_type": "markdown",
   "metadata": {},
   "source": [
    "### Test Accuracy"
   ]
  },
  {
   "cell_type": "code",
   "execution_count": 36,
   "metadata": {},
   "outputs": [
    {
     "name": "stdout",
     "output_type": "stream",
     "text": [
      "[1 1 0 0 0 0 0 1 0 0 0 0 0 0 0 1 0 1 0 0 0 0 0 0 0 0 0 1 0 0 0 0 0 1 1 1 1\n",
      " 1 0 1 0 1 1 0 0 0 0 0 1 0 0 0 0 0 0 1 1 0 0 1 1 0 0 1 0 0 0 0 0 0 0 0 0 0\n",
      " 0 0 1 1 0 0 1 0 0 0 0 0 0 0 0 1 1 0 1 0 1 0 1 0 0 0 0 0 0 1 1 0 0 0 0 1 0\n",
      " 0 1 0 1 0 0 0 0 0 1 0 1 1 0 1 0 1 0 1 0 1 1 1 1 0 0 1 0 0 1 0 0 1 1 1 0 1\n",
      " 0 0 1 1 1 1 1 0 0 1 0 0 0 0 0 0 1 0 0 1 0 0 0 0 1 0 0 1 1 0 0 1 1 0 1 0 0\n",
      " 1 0 0 0 0 1 0 0 1 0 0 1 0 0 0 1 0 1 1 0 0 1 0 0 0 1 0 0 0 0 0 1 0 1 0 0 1\n",
      " 1 0 1 0 1 0 0 0 0 0 1 0 0 0 0 1 0 0 0 0 1 1 1 1 1 0 0 0]\n",
      "250/250 [==============================] - 0s 48us/step\n"
     ]
    },
    {
     "data": {
      "text/plain": [
       "[0.2703736387491226, 0.9479999971389771]"
      ]
     },
     "execution_count": 36,
     "metadata": {},
     "output_type": "execute_result"
    }
   ],
   "source": [
    "from keras import backend as K\n",
    "test_predictions = model.predict_classes(X_test)\n",
    "print(test_predictions)\n",
    "# keras.metrics.categorical_accuracy(y_test, test_predictions)\n",
    "model.evaluate(X_test, y_test, batch_size=None, verbose=1)"
   ]
  },
  {
   "cell_type": "markdown",
   "metadata": {},
   "source": [
    "## SVM\n",
    "`Sklearn` support vector machines \n"
   ]
  },
  {
   "cell_type": "code",
   "execution_count": null,
   "metadata": {
    "scrolled": true
   },
   "outputs": [],
   "source": [
    "from sklearn import svm\n",
    "from sklearn.metrics import accuracy_score\n",
    "clf = svm.SVC(kernel='poly', degree=3, probability=True)\n",
    "clf.fit(X_train, y_train)  "
   ]
  },
  {
   "cell_type": "markdown",
   "metadata": {},
   "source": [
    "### Train Accuracy"
   ]
  },
  {
   "cell_type": "code",
   "execution_count": null,
   "metadata": {},
   "outputs": [],
   "source": [
    "train_predictions = clf.predict(X_train)"
   ]
  },
  {
   "cell_type": "code",
   "execution_count": null,
   "metadata": {},
   "outputs": [],
   "source": [
    "train_accuracy = accuracy_score(y_train.tolist(), train_predictions)\n",
    "print('Test accuracy is {0:.1f}%'.format(train_accuracy * 100))"
   ]
  },
  {
   "cell_type": "markdown",
   "metadata": {},
   "source": [
    "### Validation Accuracy"
   ]
  },
  {
   "cell_type": "code",
   "execution_count": null,
   "metadata": {
    "scrolled": true
   },
   "outputs": [],
   "source": [
    "val_predictions = clf.predict(X_val)"
   ]
  },
  {
   "cell_type": "code",
   "execution_count": null,
   "metadata": {
    "scrolled": true
   },
   "outputs": [],
   "source": [
    "val_accuracy = accuracy_score(y_val.tolist(), val_predictions)\n",
    "print('Test accuracy is {0:.1f}%'.format(val_accuracy * 100))"
   ]
  },
  {
   "cell_type": "markdown",
   "metadata": {},
   "source": [
    "### Test Accuracy "
   ]
  },
  {
   "cell_type": "code",
   "execution_count": null,
   "metadata": {},
   "outputs": [],
   "source": [
    "test_predictions = clf.predict(X_test)"
   ]
  },
  {
   "cell_type": "code",
   "execution_count": null,
   "metadata": {},
   "outputs": [],
   "source": [
    "test_accuracy = accuracy_score(y_test.tolist(), test_predictions)\n",
    "print('Test accuracy is {0:.1f}%'.format(test_accuracy * 100))"
   ]
  },
  {
   "cell_type": "code",
   "execution_count": null,
   "metadata": {
    "scrolled": false
   },
   "outputs": [],
   "source": [
    "import matplotlib.pyplot as plt\n",
    "# Visualizations will be shown in the notebook.\n",
    "%matplotlib inline\n",
    "# summarize history for accuracy\n",
    "# plt.plot(model_history.history['acc'])\n",
    "# plt.plot(model_history.history['val_acc'])\n",
    "# plt.title('model accuracy')\n",
    "# plt.ylabel('accuracy')\n",
    "# plt.xlabel('epoch')\n",
    "# plt.legend(['train', 'valid'], loc='upper left')\n",
    "# plt.show()\n",
    "# summarize history for loss\n",
    "plt.plot(model_history.history['loss'])\n",
    "plt.plot(model_history.history['val_loss'])\n",
    "plt.title('model loss')\n",
    "plt.ylabel('loss')\n",
    "plt.xlabel('epoch')\n",
    "plt.legend(['train', 'valid'], loc='upper left')\n",
    "plt.show()"
   ]
  }
 ],
 "metadata": {
  "kernelspec": {
   "display_name": "Python 3",
   "language": "python",
   "name": "python3"
  },
  "language_info": {
   "codemirror_mode": {
    "name": "ipython",
    "version": 3
   },
   "file_extension": ".py",
   "mimetype": "text/x-python",
   "name": "python",
   "nbconvert_exporter": "python",
   "pygments_lexer": "ipython3",
   "version": "3.5.2"
  },
  "varInspector": {
   "cols": {
    "lenName": 16,
    "lenType": 16,
    "lenVar": 40
   },
   "kernels_config": {
    "python": {
     "delete_cmd_postfix": "",
     "delete_cmd_prefix": "del ",
     "library": "var_list.py",
     "varRefreshCmd": "print(var_dic_list())"
    },
    "r": {
     "delete_cmd_postfix": ") ",
     "delete_cmd_prefix": "rm(",
     "library": "var_list.r",
     "varRefreshCmd": "cat(var_dic_list()) "
    }
   },
   "types_to_exclude": [
    "module",
    "function",
    "builtin_function_or_method",
    "instance",
    "_Feature"
   ],
   "window_display": false
  },
  "widgets": {
   "state": {},
   "version": "1.1.2"
  }
 },
 "nbformat": 4,
 "nbformat_minor": 2
}
